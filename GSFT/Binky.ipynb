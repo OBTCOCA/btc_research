{
 "cells": [
  {
   "cell_type": "code",
   "execution_count": 1,
   "id": "0ee5e5ad",
   "metadata": {},
   "outputs": [],
   "source": [
    "import pandas as pd\n",
    "import numpy as np \n",
    "import matplotlib.pyplot as plt\n",
    "import seaborn as sns\n",
    "\n",
    "from tqdm.notebook import tqdm\n",
    "import mplfinance as mpf\n",
    "\n",
    "import sys\n",
    "\n",
    "sys.path.insert(0,'/Users/orentapiero/btc_research/')\n",
    "\n",
    "from datetime import datetime\n",
    "\n",
    "import vectorbt as vbt\n",
    "\n",
    "from btc_functions.glassnode import *\n",
    "from btc_functions.import_data import get_glassnode_price,get_glassnode_data\n",
    "from btc_functions.variable_list_urls import *\n",
    "from btc_functions.utilities import strided_app,strided_app2\n"
   ]
  },
  {
   "cell_type": "code",
   "execution_count": 2,
   "id": "6cc060fb",
   "metadata": {},
   "outputs": [
    {
     "ename": "AttributeError",
     "evalue": "module 'vectorbt' has no attribute 'MA'",
     "output_type": "error",
     "traceback": [
      "\u001b[0;31m---------------------------------------------------------------------------\u001b[0m",
      "\u001b[0;31mAttributeError\u001b[0m                            Traceback (most recent call last)",
      "Input \u001b[0;32mIn [2]\u001b[0m, in \u001b[0;36m<module>\u001b[0;34m\u001b[0m\n\u001b[1;32m      4\u001b[0m ohlc \u001b[38;5;241m=\u001b[39m get_glassnode_price()\n\u001b[1;32m      5\u001b[0m ohlc \u001b[38;5;241m=\u001b[39m ohlc\u001b[38;5;241m.\u001b[39mrename(columns \u001b[38;5;241m=\u001b[39m {\u001b[38;5;124m'\u001b[39m\u001b[38;5;124mo\u001b[39m\u001b[38;5;124m'\u001b[39m:\u001b[38;5;124m'\u001b[39m\u001b[38;5;124mOpen\u001b[39m\u001b[38;5;124m'\u001b[39m,\u001b[38;5;124m'\u001b[39m\u001b[38;5;124mh\u001b[39m\u001b[38;5;124m'\u001b[39m:\u001b[38;5;124m'\u001b[39m\u001b[38;5;124mHigh\u001b[39m\u001b[38;5;124m'\u001b[39m,\u001b[38;5;124m'\u001b[39m\u001b[38;5;124ml\u001b[39m\u001b[38;5;124m'\u001b[39m:\u001b[38;5;124m'\u001b[39m\u001b[38;5;124mLow\u001b[39m\u001b[38;5;124m'\u001b[39m,\u001b[38;5;124m'\u001b[39m\u001b[38;5;124mc\u001b[39m\u001b[38;5;124m'\u001b[39m:\u001b[38;5;124m'\u001b[39m\u001b[38;5;124mClose\u001b[39m\u001b[38;5;124m'\u001b[39m})\n\u001b[0;32m----> 7\u001b[0m fast_ma \u001b[38;5;241m=\u001b[39m \u001b[43mvbt\u001b[49m\u001b[38;5;241;43m.\u001b[39;49m\u001b[43mMA\u001b[49m\u001b[38;5;241m.\u001b[39mrun(btc_price, \u001b[38;5;241m10\u001b[39m, short_name\u001b[38;5;241m=\u001b[39m\u001b[38;5;124m'\u001b[39m\u001b[38;5;124mfast\u001b[39m\u001b[38;5;124m'\u001b[39m)\n\u001b[1;32m      8\u001b[0m slow_ma \u001b[38;5;241m=\u001b[39m vbt\u001b[38;5;241m.\u001b[39mMA\u001b[38;5;241m.\u001b[39mrun(btc_price, \u001b[38;5;241m20\u001b[39m, short_name\u001b[38;5;241m=\u001b[39m\u001b[38;5;124m'\u001b[39m\u001b[38;5;124mslow\u001b[39m\u001b[38;5;124m'\u001b[39m)\n\u001b[1;32m     10\u001b[0m entries \u001b[38;5;241m=\u001b[39m fast_ma\u001b[38;5;241m.\u001b[39mma_crossed_above(slow_ma)\n",
      "\u001b[0;31mAttributeError\u001b[0m: module 'vectorbt' has no attribute 'MA'"
     ]
    }
   ],
   "source": [
    "start = '2019-01-01'  # crypto is in UTC\n",
    "end = '2020-01-01'\n",
    "\n",
    "ohlc = get_glassnode_price()\n",
    "ohlc = ohlc.rename(columns = {'o':'Open','h':'High','l':'Low','c':'Close'})\n",
    "\n",
    "fast_ma = vbt.MA.run(btc_price, 10, short_name='fast')\n",
    "slow_ma = vbt.MA.run(btc_price, 20, short_name='slow')\n",
    "\n",
    "entries = fast_ma.ma_crossed_above(slow_ma)\n"
   ]
  },
  {
   "cell_type": "code",
   "execution_count": null,
   "id": "3f12b735",
   "metadata": {},
   "outputs": [],
   "source": []
  }
 ],
 "metadata": {
  "kernelspec": {
   "display_name": "Python 3.10.1 64-bit ('beryl': conda)",
   "language": "python",
   "name": "python3101jvsc74a57bd02e11534feb5c8a4a098bdb95240abed074673ec71f2b3454e171f74514423955"
  },
  "language_info": {
   "codemirror_mode": {
    "name": "ipython",
    "version": 3
   },
   "file_extension": ".py",
   "mimetype": "text/x-python",
   "name": "python",
   "nbconvert_exporter": "python",
   "pygments_lexer": "ipython3",
   "version": "3.10.2"
  },
  "toc": {
   "base_numbering": 1,
   "nav_menu": {},
   "number_sections": true,
   "sideBar": true,
   "skip_h1_title": false,
   "title_cell": "Table of Contents",
   "title_sidebar": "Contents",
   "toc_cell": false,
   "toc_position": {},
   "toc_section_display": true,
   "toc_window_display": false
  }
 },
 "nbformat": 4,
 "nbformat_minor": 5
}
