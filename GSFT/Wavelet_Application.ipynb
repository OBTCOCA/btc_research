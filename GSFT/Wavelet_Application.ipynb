{
 "cells": [
  {
   "cell_type": "code",
   "execution_count": 1,
   "id": "1b802604",
   "metadata": {},
   "outputs": [],
   "source": [
    "import pandas as pd \n",
    "import numpy as np \n",
    "import matplotlib.pyplot as plt\n",
    "import seaborn as sns \n",
    "import sys\n",
    "import yfinance as yf\n",
    "\n",
    "from tqdm.notebook import tqdm\n",
    "sys.path.insert(0,'/Users/orentapiero/btc_research/')\n",
    "\n",
    "from btc_functions.glassnode import *\n",
    "from btc_functions.import_data import get_glassnode_price,get_glassnode_data\n",
    "from btc_functions.variable_list_urls import *\n",
    "from btc_functions.utilities import strided_app,strided_app2\n",
    "from btc_functions.wavelet_transform import WT\n",
    "\n",
    "from sklearn.svm import SVR\n",
    "from sklearn.preprocessing import StandardScaler\n",
    "from sklearn.linear_model import LinearRegression\n",
    "from sklearn.neighbors import KernelDensity\n",
    "from scipy.stats import norm\n",
    "\n",
    "from statsmodels.tsa.stattools import adfuller\n",
    "from statsmodels.graphics.tsaplots import plot_acf\n",
    "\n",
    "from joblib import Parallel, delayed\n",
    "from joblib.externals.loky import set_loky_pickler\n",
    "set_loky_pickler()\n",
    "\n",
    "tqdm.pandas()\n",
    "plt.rcParams['figure.figsize'] = [10,7]\n",
    "sns.set()"
   ]
  },
  {
   "cell_type": "code",
   "execution_count": 2,
   "id": "7b514675",
   "metadata": {},
   "outputs": [],
   "source": [
    "# tickers = ['BTC-USD','QQQ']\n",
    "\n",
    "# ohlc = dict()\n",
    "# mid_prices = []\n",
    "\n",
    "# for ticker in tickers:\n",
    "#     tkr = yf.Ticker(ticker)\n",
    "#     ohlc[ticker] = tkr.history(period=\"max\")\n",
    "#     mid_prices.append(ohlc[ticker][['High','Low']].mean(1).rename(ticker))\n",
    "    \n",
    "# mid_prices = pd.concat(mid_prices,axis = 1).dropna()\n",
    "# log_returns = 100*np.log(mid_prices).diff().dropna()"
   ]
  },
  {
   "cell_type": "code",
   "execution_count": 3,
   "id": "ef409869",
   "metadata": {},
   "outputs": [
    {
     "data": {
      "application/vnd.jupyter.widget-view+json": {
       "model_id": "65422911ba004c8fb2a18e38962bfb9b",
       "version_major": 2,
       "version_minor": 0
      },
      "text/plain": [
       "  0%|          | 0/16 [00:00<?, ?it/s]"
      ]
     },
     "metadata": {},
     "output_type": "display_data"
    }
   ],
   "source": [
    "ohlc = get_glassnode_price()\n",
    "ohlc = ohlc.rename(columns = {'o':'Open','h':'High','l':'Low','c':'Close'})\n",
    "\n",
    "sam_list = ['puell_multiple', 'sopr_adjusted', 'reserve_risk', 'cdd90_age_adjusted', \n",
    "            'average_dormancy', 'liveliness', 'net_unrealized_profit_loss', 'realized_profit_loss_ratio', \n",
    "            'realized_profits_to_value_ratio', 'rhodl_ratio', 'cvdd', 'nvts', \n",
    "            'marketcap_thermocap_ratio', 'difficulty_latest' ,'mvrv_z_score', \n",
    "            'non_zero_count']\n",
    "\n",
    "features = get_glassnode_data(sam_list,Urls)\n",
    "data = pd.concat([ohlc[['Open','High','Low','Close']].mean(1).rename('price'),features],axis = 1).dropna()"
   ]
  },
  {
   "cell_type": "code",
   "execution_count": 4,
   "id": "6aac0a31",
   "metadata": {
    "code_folding": [
     0,
     12,
     22,
     28,
     35,
     38,
     44
    ]
   },
   "outputs": [],
   "source": [
    "def check_stationarity(y):\n",
    "    y_ = y[~np.isnan(y)]\n",
    "    test = adfuller(y_)\n",
    "    pvalue = test[1]\n",
    "    \n",
    "    if pvalue<0.1:\n",
    "        y = y.copy()\n",
    "    else:\n",
    "        y = np.diff(y,prepend=np.nan)\n",
    "        \n",
    "    return y,pvalue\n",
    "\n",
    "def check_stationarity_transform(x,niter = 3):\n",
    "    y = x.copy()\n",
    "    \n",
    "    for i in range(niter):\n",
    "        y,pvalue = check_stationarity(y)\n",
    "        if pvalue<0.1:\n",
    "            break\n",
    "            \n",
    "    return y,i\n",
    "\n",
    "def Lag(x,L):\n",
    "    Lx=np.empty_like(x)\n",
    "    Lx[:]=np.nan\n",
    "    Lx[L:]=x[:-L]\n",
    "    return Lx\n",
    "\n",
    "def create_ar(x,order):\n",
    "    AR = [x]\n",
    "    for l in order:\n",
    "        AR.append(Lag(x,l))\n",
    "    AR = np.vstack(AR).T\n",
    "    return AR\n",
    "\n",
    "def np_dropna(X):\n",
    "    return X[~np.isnan(X).any(axis=1)]\n",
    "\n",
    "def scaleX(X):\n",
    "    try:\n",
    "        return StandardScaler().fit(X)\n",
    "    except:\n",
    "        return StandardScaler().fit(X.reshape(-1,1))\n",
    "\n",
    "def scaleY(y):\n",
    "    return StandardScaler().fit(y.reshape(-1,1))\n",
    "\n",
    "def svr_fit_predict(Y):\n",
    "    svr = SVR()\n",
    "    y,X,Xcv = Y[:,0],Y[:,1:],Y[-1,:-1]\n",
    "\n",
    "    scale_y,scale_X = scaleY(y),scaleX(X)\n",
    "    ys,Xs,Xs_cv = scale_y.transform(y.reshape(-1,1)),scale_X.transform(X),scale_X.transform(Xcv.reshape(1,-1))\n",
    "\n",
    "    svr.fit(Xs,ys.ravel())\n",
    "    \n",
    "    error = y-scale_y.inverse_transform(svr.predict(Xs).reshape(-1,1)).ravel()\n",
    "    predicted = scale_y.inverse_transform(svr.predict(Xs_cv[0].reshape(1,-1)).reshape(1,-1))[0][0]\n",
    "    return predicted,error\n",
    "\n",
    "def kde_quantile(kde,q):\n",
    "    x = np.arange(-10,10,step = 0.001)\n",
    "    f = np.exp(kde.score_samples(x.reshape(-1,1)))\n",
    "\n",
    "    xf = np.vstack([x,f]).T\n",
    "    xf = xf[np.argsort(xf[:, 0])]\n",
    "\n",
    "    abs_q = np.abs((xf[:,1]*0.001).cumsum()-q)\n",
    "    qtl = xf[np.where(abs_q == np.min(abs_q))[0],0]\n",
    "    return qtl[0]\n",
    "\n",
    "def to_dataframe(output):\n",
    "    out = pd.DataFrame(output)\n",
    "    out.index = pd.to_datetime(out.iloc[:,0])\n",
    "    return out.iloc[:,1:]\n"
   ]
  },
  {
   "cell_type": "code",
   "execution_count": 5,
   "id": "c1f1230b",
   "metadata": {},
   "outputs": [],
   "source": [
    "options = dict(svr_C = 10.0,svr_epsilon = 0.2,svr_kernel = 'rbf',\n",
    "               kde_kernel = 'gaussian',bandwidth = 0.75,\n",
    "               quantiles = (0.05,0.25,0.5,0.75,0.95))\n"
   ]
  },
  {
   "cell_type": "code",
   "execution_count": 6,
   "id": "dc61ba49",
   "metadata": {},
   "outputs": [],
   "source": [
    "np.set_printoptions(precision=3)\n",
    "\n",
    "def rolling_svr_wavelet(mid_prices,dates,order = (1,2,3,4)):\n",
    "    px = mid_prices.loc[dates].values\n",
    "    out = dict(date = dates[-1],price = px[-1],dP = px[-1]-px[-2])\n",
    "               \n",
    "    coeffs = WT(px, wavefunc='db5', lv=4, m=4, n=4, plot=False)\n",
    "    Nc = len(coeffs)\n",
    "    \n",
    "    \n",
    "    Fcast = []\n",
    "    \n",
    "    for j in range(Nc):\n",
    "        y,diff_order = check_stationarity_transform(coeffs[j])\n",
    "        ar_y = create_ar(y,order)\n",
    "        Y = np_dropna(ar_y)\n",
    "        pred,error = svr_fit_predict(Y)\n",
    "\n",
    "        if diff_order > 1:\n",
    "            prediction = (coeffs[0][-1]-coeffs[0][-2]) + pred\n",
    "        else:\n",
    "            prediction = pred\n",
    "            \n",
    "        Fcast.append(prediction)\n",
    "        out['c_'+str(j)] = prediction\n",
    "    \n",
    "    out['prediction'] = np.mean(Fcast)\n",
    "    \n",
    "    return out\n",
    "\n",
    "def hit_ratio(output):\n",
    "    mask = (output.dP > 0) & (output.prediction.shift(1) > 0)\n",
    "    mask = mask | ((output.dP <= 0) & (output.prediction.shift(1) <= 0))\n",
    "    return mask.sum()/len(mask)\n",
    "\n",
    "\n",
    "# kde = KernelDensity(kernel=options['kde_kernel'],bandwidth=options['bandwidth']).fit(error.reshape(-1,1))\n",
    "# Quantile = np.array([kde_quantile(kde,q) for q in options['quantiles']])\n",
    "# Qtl = predicted+error.std()*Quantile\n"
   ]
  },
  {
   "cell_type": "code",
   "execution_count": 7,
   "id": "41746b9b",
   "metadata": {},
   "outputs": [
    {
     "data": {
      "application/vnd.jupyter.widget-view+json": {
       "model_id": "4de3249fc68e46208376c6ff4a5fc64c",
       "version_major": 2,
       "version_minor": 0
      },
      "text/plain": [
       "  0%|          | 0/2828 [00:00<?, ?it/s]"
      ]
     },
     "metadata": {},
     "output_type": "display_data"
    },
    {
     "name": "stdout",
     "output_type": "stream",
     "text": [
      "hit ratio: 0.5650636492220651\n"
     ]
    }
   ],
   "source": [
    "price =data['price']\n",
    "\n",
    "strided_date = strided_app(price.index.values,500,1)\n",
    "order = (1,2,3,4)\n",
    "\n",
    "T = strided_date.shape[0]\n",
    "iterate = tqdm(range(T))\n",
    "fun = delayed(rolling_svr_wavelet)\n",
    "output = Parallel(n_jobs=-1)(fun(price,strided_date[t,:],order) for t in iterate)\n",
    "output = to_dataframe(output)\n",
    "\n",
    "print('hit ratio:',hit_ratio(output))"
   ]
  },
  {
   "cell_type": "code",
   "execution_count": 8,
   "id": "6fcc4ed3",
   "metadata": {},
   "outputs": [
    {
     "data": {
      "text/plain": [
       "<AxesSubplot:xlabel='date'>"
      ]
     },
     "execution_count": 8,
     "metadata": {},
     "output_type": "execute_result"
    },
    {
     "data": {
      "image/png": "[encoded data removed]",
      "text/plain": [
       "<Figure size 720x504 with 1 Axes>"
      ]
     },
     "metadata": {},
     "output_type": "display_data"
    }
   ],
   "source": [
    "output['predicted_price'] = output['price']+output['prediction']\n",
    "np.log(output[['price','predicted_price']]).loc['2021':].plot(style='.-')"
   ]
  },
  {
   "cell_type": "code",
   "execution_count": 20,
   "id": "ac70b526",
   "metadata": {},
   "outputs": [],
   "source": [
    "def svr_fit_predict1(y,X,Xcv):\n",
    "    svr = SVR()    \n",
    "    \n",
    "    \n",
    "    scale_y,scale_X = scaleY(y),scaleX(X)\n",
    "    ys,Xs,Xs_cv = scale_y.transform(y.reshape(-1,1)),scale_X.transform(X),scale_X.transform(Xcv.reshape(1,-1))\n",
    "\n",
    "    svr.fit(Xs,ys.ravel())    \n",
    "    error = y-scale_y.inverse_transform(svr.predict(Xs).reshape(-1,1)).ravel()\n",
    "    predicted = scale_y.inverse_transform(svr.predict(Xs_cv[0].reshape(1,-1)).reshape(1,-1))[0][0]\n",
    "            \n",
    "    return predicted,error\n"
   ]
  },
  {
   "cell_type": "code",
   "execution_count": 31,
   "id": "b17f1663",
   "metadata": {},
   "outputs": [],
   "source": [
    "def rolling_svr_wavelet1(data,dates,order = (1,2,3,4)):\n",
    "    mat = data.loc[dates].values\n",
    "\n",
    "    px = mat[:,0]\n",
    "    Xmat = mat[:,1:]\n",
    "    Nk = Xmat.shape[1]\n",
    "\n",
    "    Xmat_ = []\n",
    "    for k in range(Nk):\n",
    "        x_,diff_order = check_stationarity_transform(Xmat[:,k].astype(float))\n",
    "        Xmat_.append(x_)\n",
    "\n",
    "    Xmat_ = np.vstack(Xmat_).T \n",
    "    LXmat_ = np.empty_like(Xmat_)\n",
    "    LXmat_[:] = np.nan\n",
    "    LXmat_[1:,:] = Xmat_[:-1,:]\n",
    "\n",
    "    out = dict(date = dates[-1],price = px[-1],dP = px[-1]-px[-2])\n",
    "    coeffs = WT(px, wavefunc='db4', lv=4, m=4, n=4, plot=False)\n",
    "    Nc = len(coeffs)\n",
    "\n",
    "\n",
    "    Fcast = []\n",
    "\n",
    "    for j in range(Nc):\n",
    "        y,diff_order = check_stationarity_transform(coeffs[j])\n",
    "        ar_y = create_ar(y,order)\n",
    "        all_ = np.vstack([ar_y.T,LXmat_.T]).T\n",
    "        all_ = np_dropna(all_)\n",
    "\n",
    "        y = all_[:,0]\n",
    "        X = all_[:,1:]\n",
    "        Xcv1 = [y[-i] for i in order]\n",
    "        Xcv2 = list(Xmat_[-1,:])\n",
    "        Xcv = np.array(Xcv1+Xcv2)\n",
    "\n",
    "        pred,error = svr_fit_predict1(y,X,Xcv)\n",
    "\n",
    "        if diff_order > 1:\n",
    "            prediction = (coeffs[0][-1]-coeffs[0][-2]) + pred\n",
    "        else:\n",
    "            prediction = pred\n",
    "\n",
    "        Fcast.append(prediction)\n",
    "        out['c_'+str(j)] = prediction\n",
    "\n",
    "    out['prediction'] = np.mean(Fcast)\n",
    "\n",
    "    return out"
   ]
  },
  {
   "cell_type": "code",
   "execution_count": null,
   "id": "4d36b7bd",
   "metadata": {},
   "outputs": [
    {
     "data": {
      "application/vnd.jupyter.widget-view+json": {
       "model_id": "90bd66598d4b4b83bfac471b2f152c1b",
       "version_major": 2,
       "version_minor": 0
      },
      "text/plain": [
       "  0%|          | 0/2828 [00:00<?, ?it/s]"
      ]
     },
     "metadata": {},
     "output_type": "display_data"
    }
   ],
   "source": [
    "strided_date = strided_app(data.index.values,500,1)\n",
    "order = (1,2,3,4)\n",
    "\n",
    "T = strided_date.shape[0]\n",
    "iterate = tqdm(range(T))\n",
    "fun = delayed(rolling_svr_wavelet1)\n",
    "output = Parallel(n_jobs=-1)(fun(data,strided_date[t,:],order) for t in iterate)\n",
    "output = to_dataframe(output)\n",
    "\n",
    "print('hit ratio:',hit_ratio(output))"
   ]
  },
  {
   "cell_type": "code",
   "execution_count": null,
   "id": "58527a30",
   "metadata": {},
   "outputs": [],
   "source": [
    "output['predicted_price'] = output['price']+output['prediction']\n",
    "np.log(output[['price','predicted_price']]).loc['2021':].plot(style='.-')"
   ]
  },
  {
   "cell_type": "code",
   "execution_count": null,
   "id": "98277a16",
   "metadata": {},
   "outputs": [],
   "source": []
  }
 ],
 "metadata": {
  "kernelspec": {
   "display_name": "Python 3.10.1 64-bit ('beryl': conda)",
   "language": "python",
   "name": "python3101jvsc74a57bd02e11534feb5c8a4a098bdb95240abed074673ec71f2b3454e171f74514423955"
  },
  "language_info": {
   "codemirror_mode": {
    "name": "ipython",
    "version": 3
   },
   "file_extension": ".py",
   "mimetype": "text/x-python",
   "name": "python",
   "nbconvert_exporter": "python",
   "pygments_lexer": "ipython3",
   "version": "3.10.2"
  },
  "toc": {
   "base_numbering": 1,
   "nav_menu": {},
   "number_sections": true,
   "sideBar": true,
   "skip_h1_title": false,
   "title_cell": "Table of Contents",
   "title_sidebar": "Contents",
   "toc_cell": false,
   "toc_position": {},
   "toc_section_display": true,
   "toc_window_display": false
  }
 },
 "nbformat": 4,
 "nbformat_minor": 5
}
