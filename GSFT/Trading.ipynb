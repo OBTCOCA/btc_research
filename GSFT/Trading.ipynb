{
 "cells": [
  {
   "cell_type": "code",
   "execution_count": 60,
   "id": "b54b2a04",
   "metadata": {},
   "outputs": [],
   "source": [
    "import pandas as pd\n",
    "import numpy as np \n",
    "import matplotlib.pyplot as plt\n",
    "import seaborn as sns\n",
    "\n",
    "from tqdm.notebook import tqdm\n",
    "\n",
    "import sys\n",
    "\n",
    "sys.path.insert(0,'/Users/orentapiero/btc_research/')\n",
    "\n",
    "from btc_functions.glassnode import *\n",
    "from btc_functions.import_data import get_glassnode_price,get_glassnode_data\n",
    "from btc_functions.variable_list_urls import *\n",
    "from btc_functions.utilities import strided_app,strided_app2\n",
    "\n",
    "plt.rcParams['figure.figsize'] = [15, 10]\n",
    "sns.set()"
   ]
  },
  {
   "cell_type": "code",
   "execution_count": 61,
   "id": "749d9ec4",
   "metadata": {},
   "outputs": [
    {
     "data": {
      "application/vnd.jupyter.widget-view+json": {
       "model_id": "c29da42589df4ec98516a9dd88f7b1aa",
       "version_major": 2,
       "version_minor": 0
      },
      "text/plain": [
       "  0%|          | 0/4 [00:00<?, ?it/s]"
      ]
     },
     "metadata": {},
     "output_type": "display_data"
    }
   ],
   "source": [
    "ohlc = get_glassnode_price()\n",
    "ohlc = ohlc.rename(columns = {'o':'Open','h':'High','l':'Low','c':'Close'})\n",
    "features = get_glassnode_data(['mvrv','sopr','rhodl_ratio','utxo_created_value_sum'],Urls)\n",
    "ohlc['Volume'] = features['utxo_created_value_sum']"
   ]
  },
  {
   "cell_type": "code",
   "execution_count": 62,
   "id": "517b3a2e",
   "metadata": {},
   "outputs": [
    {
     "data": {
      "text/html": [
       "<div style=\"display: table;\"><div style=\"display: table-row;\"><div style=\"display: table-cell;\"><b title=\"bokeh.models.layouts.Row\">Row</b>(</div><div style=\"display: table-cell;\">id&nbsp;=&nbsp;'30682', <span id=\"31296\" style=\"cursor: pointer;\">&hellip;)</span></div></div><div class=\"31295\" style=\"display: none;\"><div style=\"display: table-cell;\"></div><div style=\"display: table-cell;\">align&nbsp;=&nbsp;'start',</div></div><div class=\"31295\" style=\"display: none;\"><div style=\"display: table-cell;\"></div><div style=\"display: table-cell;\">aspect_ratio&nbsp;=&nbsp;None,</div></div><div class=\"31295\" style=\"display: none;\"><div style=\"display: table-cell;\"></div><div style=\"display: table-cell;\">background&nbsp;=&nbsp;None,</div></div><div class=\"31295\" style=\"display: none;\"><div style=\"display: table-cell;\"></div><div style=\"display: table-cell;\">children&nbsp;=&nbsp;[GridBox(id='30679', ...), ToolbarBox(id='30681', ...)],</div></div><div class=\"31295\" style=\"display: none;\"><div style=\"display: table-cell;\"></div><div style=\"display: table-cell;\">cols&nbsp;=&nbsp;'auto',</div></div><div class=\"31295\" style=\"display: none;\"><div style=\"display: table-cell;\"></div><div style=\"display: table-cell;\">css_classes&nbsp;=&nbsp;[],</div></div><div class=\"31295\" style=\"display: none;\"><div style=\"display: table-cell;\"></div><div style=\"display: table-cell;\">disabled&nbsp;=&nbsp;False,</div></div><div class=\"31295\" style=\"display: none;\"><div style=\"display: table-cell;\"></div><div style=\"display: table-cell;\">height&nbsp;=&nbsp;None,</div></div><div class=\"31295\" style=\"display: none;\"><div style=\"display: table-cell;\"></div><div style=\"display: table-cell;\">height_policy&nbsp;=&nbsp;'auto',</div></div><div class=\"31295\" style=\"display: none;\"><div style=\"display: table-cell;\"></div><div style=\"display: table-cell;\">js_event_callbacks&nbsp;=&nbsp;{},</div></div><div class=\"31295\" style=\"display: none;\"><div style=\"display: table-cell;\"></div><div style=\"display: table-cell;\">js_property_callbacks&nbsp;=&nbsp;{},</div></div><div class=\"31295\" style=\"display: none;\"><div style=\"display: table-cell;\"></div><div style=\"display: table-cell;\">margin&nbsp;=&nbsp;(0, 0, 0, 0),</div></div><div class=\"31295\" style=\"display: none;\"><div style=\"display: table-cell;\"></div><div style=\"display: table-cell;\">max_height&nbsp;=&nbsp;None,</div></div><div class=\"31295\" style=\"display: none;\"><div style=\"display: table-cell;\"></div><div style=\"display: table-cell;\">max_width&nbsp;=&nbsp;None,</div></div><div class=\"31295\" style=\"display: none;\"><div style=\"display: table-cell;\"></div><div style=\"display: table-cell;\">min_height&nbsp;=&nbsp;None,</div></div><div class=\"31295\" style=\"display: none;\"><div style=\"display: table-cell;\"></div><div style=\"display: table-cell;\">min_width&nbsp;=&nbsp;None,</div></div><div class=\"31295\" style=\"display: none;\"><div style=\"display: table-cell;\"></div><div style=\"display: table-cell;\">name&nbsp;=&nbsp;None,</div></div><div class=\"31295\" style=\"display: none;\"><div style=\"display: table-cell;\"></div><div style=\"display: table-cell;\">sizing_mode&nbsp;=&nbsp;'stretch_width',</div></div><div class=\"31295\" style=\"display: none;\"><div style=\"display: table-cell;\"></div><div style=\"display: table-cell;\">spacing&nbsp;=&nbsp;0,</div></div><div class=\"31295\" style=\"display: none;\"><div style=\"display: table-cell;\"></div><div style=\"display: table-cell;\">subscribed_events&nbsp;=&nbsp;[],</div></div><div class=\"31295\" style=\"display: none;\"><div style=\"display: table-cell;\"></div><div style=\"display: table-cell;\">syncable&nbsp;=&nbsp;True,</div></div><div class=\"31295\" style=\"display: none;\"><div style=\"display: table-cell;\"></div><div style=\"display: table-cell;\">tags&nbsp;=&nbsp;[],</div></div><div class=\"31295\" style=\"display: none;\"><div style=\"display: table-cell;\"></div><div style=\"display: table-cell;\">visible&nbsp;=&nbsp;True,</div></div><div class=\"31295\" style=\"display: none;\"><div style=\"display: table-cell;\"></div><div style=\"display: table-cell;\">width&nbsp;=&nbsp;None,</div></div><div class=\"31295\" style=\"display: none;\"><div style=\"display: table-cell;\"></div><div style=\"display: table-cell;\">width_policy&nbsp;=&nbsp;'auto')</div></div></div>\n",
       "<script>\n",
       "(function() {\n",
       "  let expanded = false;\n",
       "  const ellipsis = document.getElementById(\"31296\");\n",
       "  ellipsis.addEventListener(\"click\", function() {\n",
       "    const rows = document.getElementsByClassName(\"31295\");\n",
       "    for (let i = 0; i < rows.length; i++) {\n",
       "      const el = rows[i];\n",
       "      el.style.display = expanded ? \"none\" : \"table-row\";\n",
       "    }\n",
       "    ellipsis.innerHTML = expanded ? \"&hellip;)\" : \"&lsaquo;&lsaquo;&lsaquo;\";\n",
       "    expanded = !expanded;\n",
       "  });\n",
       "})();\n",
       "</script>\n"
      ],
      "text/plain": [
       "Row(id='30682', ...)"
      ]
     },
     "execution_count": 62,
     "metadata": {},
     "output_type": "execute_result"
    }
   ],
   "source": [
    "# import backtesting\n",
    "# backtesting.set_bokeh_output(notebook=False)\n",
    "# from numbers import Number\n",
    "# from inspect import currentframe\n",
    "# from typing import Sequence, Optional, Union, Callable\n",
    "\n",
    "# from backtesting import Backtest, Strategy\n",
    "# from backtesting.lib import crossover\n",
    "# from backtesting.test import SMA, GOOG\n",
    "\n",
    "# def EMA(arr: pd.Series, n: int) -> pd.Series:\n",
    "#     \"\"\"\n",
    "#     Returns `n`-period simple moving average of array `arr`.\n",
    "#     \"\"\"\n",
    "#     return pd.Series(arr).ewm(span=n).mean()\n",
    "\n",
    "    \n",
    "# class SmaCross(Strategy):\n",
    "#     def init(self):\n",
    "#         price = self.data.Close\n",
    "#         self.ma1 = self.I(EMA, price, 5)\n",
    "#         self.ma2 = self.I(EMA, price, 60)\n",
    "\n",
    "#     def next(self):\n",
    "#         if crossover(self.ma1, self.ma2):\n",
    "#             self.buy()\n",
    "#         elif crossover(self.ma2, self.ma1):\n",
    "#              self.sell()\n",
    "\n",
    "# bt = Backtest(ohlc.loc['2015':], SmaCross, commission=.002,\n",
    "#               cash = 100000,exclusive_orders=True,trade_on_close=True)\n",
    "\n",
    "# stats = bt.run()\n",
    "# bt.plot()"
   ]
  },
  {
   "cell_type": "code",
   "execution_count": 63,
   "id": "46cfce05",
   "metadata": {},
   "outputs": [],
   "source": [
    "import numpy as np\n",
    "\n",
    "def get_X(data):\n",
    "    \"\"\"Return model design matrix X\"\"\"\n",
    "    return data.loc[:,data.columns!='Close'].values\n",
    "\n",
    "\n",
    "def get_y(data):\n",
    "    \"\"\"Return dependent variable y\"\"\"\n",
    "    y = data.Close.pct_change(48).shift(-48)  # Returns after roughly two days\n",
    "    y[y.between(-.004, .004)] = 0             # Devalue returns smaller than 0.4%\n",
    "    y[y > 0] = 1\n",
    "    y[y < 0] = -1\n",
    "    return y\n",
    "\n",
    "\n",
    "def get_clean_Xy(df):\n",
    "    \"\"\"Return (X, y) cleaned of NaN values\"\"\"\n",
    "    X = get_X(df)\n",
    "    y = get_y(df).values\n",
    "    isnan = np.isnan(y)\n",
    "    X = X[~isnan]\n",
    "    y = y[~isnan]\n",
    "    return X, y"
   ]
  },
  {
   "cell_type": "code",
   "execution_count": 64,
   "id": "ef16422b",
   "metadata": {},
   "outputs": [],
   "source": [
    "logR = 100*np.log(ohlc['Close']).rename('logR')\n",
    "\n",
    "data = pd.concat([ohlc.Close,features],axis=1)\n",
    "data = data.dropna().copy()\n",
    "data['Open'] = ohlc['Open']\n",
    "data['High'] = ohlc['High']\n",
    "data['Low'] = ohlc['Low']\n",
    "data=data.rename(columns = {'utxo_created_value_sum':'Volume'})\n"
   ]
  },
  {
   "cell_type": "code",
   "execution_count": 65,
   "id": "f96b4e1a",
   "metadata": {},
   "outputs": [
    {
     "data": {
      "text/plain": [
       "Start                     2013-01-01 00:00:00\n",
       "End                       2022-01-31 00:00:00\n",
       "Duration                   3317 days 00:00:00\n",
       "Exposure Time [%]                   90.958409\n",
       "Equity Final [$]              51037629.660546\n",
       "Equity Peak [$]               56048932.209058\n",
       "Return [%]                         410.376297\n",
       "Buy & Hold Return [%]           290790.239512\n",
       "Return (Ann.) [%]                   19.638848\n",
       "Volatility (Ann.) [%]               17.905102\n",
       "Sharpe Ratio                          1.09683\n",
       "Sortino Ratio                        2.010126\n",
       "Calmar Ratio                         0.973577\n",
       "Max. Drawdown [%]                  -20.171854\n",
       "Avg. Drawdown [%]                   -2.924264\n",
       "Max. Drawdown Duration     1055 days 00:00:00\n",
       "Avg. Drawdown Duration       48 days 00:00:00\n",
       "# Trades                                   65\n",
       "Win Rate [%]                        58.461538\n",
       "Best Trade [%]                      99.959008\n",
       "Worst Trade [%]                    -51.461942\n",
       "Avg. Trade [%]                       8.867255\n",
       "Max. Trade Duration         835 days 00:00:00\n",
       "Avg. Trade Duration          47 days 00:00:00\n",
       "Profit Factor                        5.005243\n",
       "Expectancy [%]                      14.041674\n",
       "SQN                                  2.311419\n",
       "_strategy                 MLTrainOnceStrategy\n",
       "_equity_curve                             ...\n",
       "_trades                        Size  Entry...\n",
       "dtype: object"
      ]
     },
     "execution_count": 65,
     "metadata": {},
     "output_type": "execute_result"
    }
   ],
   "source": [
    "from backtesting import Backtest, Strategy\n",
    "import pandas as pd\n",
    "from sklearn.neighbors import KNeighborsClassifier\n",
    "from sklearn.svm import SVC\n",
    "\n",
    "from sklearn.model_selection import train_test_split\n",
    "\n",
    "N_TRAIN = 300\n",
    "\n",
    "\n",
    "class MLTrainOnceStrategy(Strategy):\n",
    "    price_delta = .99999 # 0.4%\n",
    "\n",
    "    def init(self):        \n",
    "        # Init our model, a SVM classifier\n",
    "        self.clf = SVC()\n",
    "\n",
    "        # Train the classifier in advance on the first N_TRAIN examples\n",
    "        df = self.data.df.iloc[:N_TRAIN]\n",
    "        X, y = get_clean_Xy(df)\n",
    "        self.clf.fit(X, y)\n",
    "\n",
    "        # Plot y for inspection\n",
    "        self.I(get_y, self.data.df, name='y_true')\n",
    "\n",
    "        # Prepare empty, all-NaN forecast indicator\n",
    "        self.forecasts = self.I(lambda: np.repeat(np.nan, len(self.data)), name='forecast')\n",
    "\n",
    "    def next(self):\n",
    "        # Skip the training, in-sample data\n",
    "        if len(self.data) < N_TRAIN:\n",
    "            return\n",
    "\n",
    "        # Proceed only with out-of-sample data. Prepare some variables\n",
    "        high, low, close = self.data.High, self.data.Low, self.data.Close\n",
    "        current_time = self.data.index[-1]\n",
    "\n",
    "        # Forecast the next movement\n",
    "        X = get_X(self.data.df.iloc[-1:])\n",
    "        forecast = self.clf.predict(X)[0]\n",
    "\n",
    "        # Update the plotted \"forecast\" indicator\n",
    "        self.forecasts[-1] = forecast\n",
    "\n",
    "        # If our forecast is upwards and we don't already hold a long position\n",
    "        # place a long order for 20% of available account equity. Vice versa for short.\n",
    "        # Also set target take-profit and stop-loss prices to be one price_delta\n",
    "        # away from the current closing price.\n",
    "        upper, lower = close[-1] * (1 + np.r_[1, -1]*self.price_delta)\n",
    "                \n",
    "        if forecast == 1 and not self.position.is_long:\n",
    "            self.buy(size=.2, tp=upper, sl=lower)\n",
    "        elif forecast == -1 and not self.position.is_short:\n",
    "            self.sell(size=.2, tp=lower, sl=upper)\n",
    "\n",
    "        # Additionally, set aggressive stop-loss on trades that have been open \n",
    "        # for more than two days\n",
    "#         for trade in self.trades:\n",
    "#             if current_time - trade.entry_time > pd.Timedelta('2 days'):\n",
    "#                 if trade.is_long:\n",
    "#                     trade.sl = max(trade.sl, low)\n",
    "#                 else:\n",
    "#                     trade.sl = min(trade.sl, high)\n",
    "\n",
    "bt = Backtest(data, \n",
    "              MLTrainOnceStrategy, \n",
    "              commission=.0002, \n",
    "              cash = 10000000,\n",
    "              exclusive_orders=True,\n",
    "              trade_on_close=True)\n",
    "bt.run()\n",
    "# bt.plot()"
   ]
  },
  {
   "cell_type": "code",
   "execution_count": 66,
   "id": "978f6a5f",
   "metadata": {},
   "outputs": [
    {
     "data": {
      "text/plain": [
       "Start                     2013-01-01 00:00:00\n",
       "End                       2022-01-31 00:00:00\n",
       "Duration                   3317 days 00:00:00\n",
       "Exposure Time [%]                   90.958409\n",
       "Equity Final [$]              51037629.660546\n",
       "Equity Peak [$]               56048932.209058\n",
       "Return [%]                         410.376297\n",
       "Buy & Hold Return [%]           290790.239512\n",
       "Return (Ann.) [%]                   19.638848\n",
       "Volatility (Ann.) [%]               17.905102\n",
       "Sharpe Ratio                          1.09683\n",
       "Sortino Ratio                        2.010126\n",
       "Calmar Ratio                         0.973577\n",
       "Max. Drawdown [%]                  -20.171854\n",
       "Avg. Drawdown [%]                   -2.924264\n",
       "Max. Drawdown Duration     1055 days 00:00:00\n",
       "Avg. Drawdown Duration       48 days 00:00:00\n",
       "# Trades                                   65\n",
       "Win Rate [%]                        58.461538\n",
       "Best Trade [%]                      99.959008\n",
       "Worst Trade [%]                    -51.461942\n",
       "Avg. Trade [%]                       8.867255\n",
       "Max. Trade Duration         835 days 00:00:00\n",
       "Avg. Trade Duration          47 days 00:00:00\n",
       "Profit Factor                        5.005243\n",
       "Expectancy [%]                      14.041674\n",
       "SQN                                  2.311419\n",
       "_strategy                 MLTrainOnceStrategy\n",
       "_equity_curve                             ...\n",
       "_trades                        Size  Entry...\n",
       "dtype: object"
      ]
     },
     "execution_count": 66,
     "metadata": {},
     "output_type": "execute_result"
    }
   ],
   "source": [
    "bt._results"
   ]
  },
  {
   "cell_type": "code",
   "execution_count": null,
   "id": "82f64ce5",
   "metadata": {},
   "outputs": [],
   "source": []
  }
 ],
 "metadata": {
  "kernelspec": {
   "display_name": "Python 3.10.1 64-bit ('beryl': conda)",
   "language": "python",
   "name": "python3101jvsc74a57bd02e11534feb5c8a4a098bdb95240abed074673ec71f2b3454e171f74514423955"
  },
  "language_info": {
   "codemirror_mode": {
    "name": "ipython",
    "version": 3
   },
   "file_extension": ".py",
   "mimetype": "text/x-python",
   "name": "python",
   "nbconvert_exporter": "python",
   "pygments_lexer": "ipython3",
   "version": "3.10.1"
  },
  "toc": {
   "base_numbering": 1,
   "nav_menu": {},
   "number_sections": true,
   "sideBar": true,
   "skip_h1_title": false,
   "title_cell": "Table of Contents",
   "title_sidebar": "Contents",
   "toc_cell": false,
   "toc_position": {},
   "toc_section_display": true,
   "toc_window_display": false
  }
 },
 "nbformat": 4,
 "nbformat_minor": 5
}
