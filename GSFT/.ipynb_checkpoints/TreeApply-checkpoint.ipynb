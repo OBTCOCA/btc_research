{
 "cells": [
  {
   "cell_type": "code",
   "execution_count": 2,
   "id": "05c05856",
   "metadata": {},
   "outputs": [],
   "source": [
    "import pandas as pd\n",
    "import numpy as np \n",
    "import matplotlib.pyplot as plt\n",
    "import seaborn as sns\n",
    "\n",
    "from scipy.signal import argrelextrema\n",
    "from tqdm.notebook import tqdm\n",
    "import mplfinance as mpf\n",
    "\n",
    "import sys\n",
    "\n",
    "sys.path.insert(0,'/Users/orentapiero/btc_research/')\n",
    "\n",
    "from btc_functions.glassnode import *\n",
    "from btc_functions.import_data import get_glassnode_price,get_glassnode_data\n",
    "from btc_functions.variable_list_urls import *\n",
    "from btc_functions.utilities import strided_app,strided_app2\n",
    "\n",
    "plt.rcParams['figure.figsize'] = [18, 10]\n",
    "sns.set()\n",
    "\n",
    "Urls['transfers_volume_sum'] = 'https://api.glassnode.com/v1/metrics/transactions/transfers_volume_sum'\n"
   ]
  },
  {
   "cell_type": "code",
   "execution_count": 3,
   "id": "55bda571",
   "metadata": {},
   "outputs": [
    {
     "data": {
      "application/vnd.jupyter.widget-view+json": {
       "model_id": "ce34f4ec0a55403ab0a0632b1c75a44d",
       "version_major": 2,
       "version_minor": 0
      },
      "text/plain": [
       "  0%|          | 0/19 [00:00<?, ?it/s]"
      ]
     },
     "metadata": {},
     "output_type": "display_data"
    }
   ],
   "source": [
    "ohlc = get_glassnode_price()\n",
    "ohlc = ohlc.rename(columns = {'o':'Open','h':'High','l':'Low','c':'Close'})\n",
    "ohlc = ohlc\n",
    "\n",
    "selected = ['marketcap_usd',\n",
    "            'mvrv_z_score',\n",
    "            'sopr_adjusted',\n",
    "            'puell_multiple',\n",
    "            'net_unrealized_profit_loss',\n",
    "            'transfers_volume_sum',\n",
    "            'transfers_volume_exchanges_net',\n",
    "            'dormancy_flow',\n",
    "            'reserve_risk',\n",
    "            'cdd90_age_adjusted',\n",
    "            'average_dormancy',\n",
    "            'liveliness', \n",
    "            'realized_profits_to_value_ratio',\n",
    "            'rhodl_ratio',\n",
    "            'cvdd',\n",
    "            'nvts', \n",
    "            'marketcap_thermocap_ratio',\n",
    "            'difficulty_latest', \n",
    "            'non_zero_count']\n",
    "\n",
    "features = get_glassnode_data(selected,Urls)\n",
    "features = features#.loc[:'2019']\n"
   ]
  },
  {
   "cell_type": "code",
   "execution_count": 5,
   "id": "b319d19a",
   "metadata": {},
   "outputs": [],
   "source": [
    "from sklearn.tree import DecisionTreeClassifier\n",
    "from sklearn.metrics import accuracy_score,confusion_matrix,ConfusionMatrixDisplay\n",
    "from sklearn.ensemble import RandomForestClassifier\n",
    "\n",
    "def create_target(ohlc,L = 30):\n",
    "    px = np.log(ohlc.Close)\n",
    "    target_df = pd.DataFrame(px)\n",
    "    target_df['R'] = px.diff()\n",
    "    target_df['RV'] = np.sqrt((target_df['R']**2).rolling(L).sum())\n",
    "    target_df['FR'] = (px.shift(-L) - px)\n",
    "    target_df['FR2RV'] = target_df['FR']/target_df['RV']\n",
    "    target_df['Target'] = 0.\n",
    "    target_df.loc[target_df.FR2RV>=1.,'Target']=1.\n",
    "    target_df.loc[target_df.FR2RV<=-1.,'Target']=-1.\n",
    "    return target_df\n",
    "\n",
    "L = 30\n",
    "target_df['R'] = px.diff()\n",
    "target_df['RV'] = np.sqrt((target_df['R']**2).rolling(L).sum())\n",
    "target_df['FR'] = (px.shift(-L) - px)\n",
    "target_df['FR2RV'] = target_df['FR']/target_df['RV']\n",
    "target_df['Target'] = 0.\n",
    "target_df.loc[target_df.FR2RV>=1.,'Target']=1.\n",
    "target_df.loc[target_df.FR2RV<=-1.,'Target']=-1.\n",
    "\n",
    "target_df = target_df.dropna()"
   ]
  },
  {
   "cell_type": "code",
   "execution_count": 13,
   "id": "4e5432e1",
   "metadata": {},
   "outputs": [
    {
     "ename": "TypeError",
     "evalue": "bad operand type for unary -: 'str'",
     "output_type": "error",
     "traceback": [
      "\u001b[0;31m---------------------------------------------------------------------------\u001b[0m",
      "\u001b[0;31mTypeError\u001b[0m                                 Traceback (most recent call last)",
      "Input \u001b[0;32mIn [13]\u001b[0m, in \u001b[0;36m<module>\u001b[0;34m\u001b[0m\n\u001b[0;32m----> 1\u001b[0m \u001b[43mtarget_df\u001b[49m\u001b[38;5;241;43m.\u001b[39;49m\u001b[43mloc\u001b[49m\u001b[43m[\u001b[49m\u001b[43m:\u001b[49m\u001b[38;5;124;43m'\u001b[39;49m\u001b[38;5;124;43m2010-09-09\u001b[39;49m\u001b[38;5;124;43m'\u001b[39;49m\u001b[43m]\u001b[49m\u001b[38;5;241;43m.\u001b[39;49m\u001b[43mtail\u001b[49m\u001b[43m(\u001b[49m\u001b[38;5;124;43m'\u001b[39;49m\u001b[38;5;124;43m30\u001b[39;49m\u001b[38;5;124;43m'\u001b[39;49m\u001b[43m)\u001b[49m\n",
      "File \u001b[0;32m~/miniforge3/envs/beryl/lib/python3.10/site-packages/pandas/core/generic.py:5148\u001b[0m, in \u001b[0;36mNDFrame.tail\u001b[0;34m(self, n)\u001b[0m\n\u001b[1;32m   5146\u001b[0m \u001b[38;5;28;01mif\u001b[39;00m n \u001b[38;5;241m==\u001b[39m \u001b[38;5;241m0\u001b[39m:\n\u001b[1;32m   5147\u001b[0m     \u001b[38;5;28;01mreturn\u001b[39;00m \u001b[38;5;28mself\u001b[39m\u001b[38;5;241m.\u001b[39miloc[\u001b[38;5;241m0\u001b[39m:\u001b[38;5;241m0\u001b[39m]\n\u001b[0;32m-> 5148\u001b[0m \u001b[38;5;28;01mreturn\u001b[39;00m \u001b[38;5;28mself\u001b[39m\u001b[38;5;241m.\u001b[39miloc[\u001b[38;5;241;43m-\u001b[39;49m\u001b[43mn\u001b[49m:]\n",
      "\u001b[0;31mTypeError\u001b[0m: bad operand type for unary -: 'str'"
     ]
    }
   ],
   "source": [
    "target_df.loc['2010-09-09']."
   ]
  },
  {
   "cell_type": "code",
   "execution_count": null,
   "id": "3f789a4a",
   "metadata": {},
   "outputs": [],
   "source": []
  }
 ],
 "metadata": {
  "kernelspec": {
   "display_name": "Python 3.10.1 64-bit ('beryl': conda)",
   "language": "python",
   "name": "python3101jvsc74a57bd02e11534feb5c8a4a098bdb95240abed074673ec71f2b3454e171f74514423955"
  },
  "language_info": {
   "codemirror_mode": {
    "name": "ipython",
    "version": 3
   },
   "file_extension": ".py",
   "mimetype": "text/x-python",
   "name": "python",
   "nbconvert_exporter": "python",
   "pygments_lexer": "ipython3",
   "version": "3.10.2"
  },
  "toc": {
   "base_numbering": 1,
   "nav_menu": {},
   "number_sections": true,
   "sideBar": true,
   "skip_h1_title": false,
   "title_cell": "Table of Contents",
   "title_sidebar": "Contents",
   "toc_cell": false,
   "toc_position": {},
   "toc_section_display": true,
   "toc_window_display": false
  }
 },
 "nbformat": 4,
 "nbformat_minor": 5
}
