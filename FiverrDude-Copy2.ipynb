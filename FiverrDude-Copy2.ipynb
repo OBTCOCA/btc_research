{
 "cells": [
  {
   "cell_type": "code",
   "execution_count": null,
   "id": "fa741a43",
   "metadata": {},
   "outputs": [],
   "source": [
    "import pandas as pd \n",
    "import numpy as np \n",
    "import matplotlib.pyplot as plt\n",
    "import datetime\n",
    "import quantstats as qs\n",
    "import yfinance as yf\n",
    "import warnings\n",
    "import seaborn as sns\n",
    "\n",
    "from keras.models import Sequential\n",
    "from keras.layers.core import Dense, Dropout, Activation, Flatten\n",
    "from keras.layers.recurrent import LSTM, GRU\n",
    "\n",
    "from csv import writer\n",
    "\n",
    "from sklearn.preprocessing import MinMaxScaler,StandardScaler\n",
    "from sklearn.ensemble import AdaBoostClassifier\n",
    "from sklearn.ensemble import BaggingClassifier\n",
    "from sklearn.linear_model import LogisticRegression\n",
    "\n",
    "import sys\n",
    "sys.path.insert(0,'/Users/orentapiero/Ducuments/MyResearch/btc_research/')\n",
    "\n",
    "from btc_functions.glassnode import *\n",
    "from btc_functions.import_data import get_glassnode_price,get_glassnode_data\n",
    "from btc_functions.variable_list_urls import *\n",
    "from btc_functions.utilities import strided_app,strided_app2\n",
    "\n",
    "plt.rcParams['figure.figsize'] = [18, 10]\n",
    "sns.set()\n",
    "\n",
    "warnings.filterwarnings(\"ignore\", category=RuntimeWarning)\n",
    "warnings.filterwarnings(\"ignore\", category=FutureWarning)\n",
    "warnings.filterwarnings(\"ignore\", category=UserWarning)\n"
   ]
  },
  {
   "cell_type": "code",
   "execution_count": null,
   "id": "29dc3ec1",
   "metadata": {},
   "outputs": [],
   "source": [
    "Urls['transfers_volume_sum'] = 'https://api.glassnode.com/v1/metrics/transactions/transfers_volume_sum'\n",
    "Urls['ssr'] = 'https://api.glassnode.com/v1/metrics/indicators/ssr'"
   ]
  },
  {
   "cell_type": "code",
   "execution_count": null,
   "id": "3dfbfa90",
   "metadata": {},
   "outputs": [],
   "source": [
    "ohlc = get_glassnode_price()\n",
    "ohlc = ohlc.rename(columns = {'o':'Open','h':'High','l':'Low','c':'Close'})\n",
    "ohlc = ohlc.loc[:'2019']\n"
   ]
  },
  {
   "cell_type": "code",
   "execution_count": null,
   "id": "3faa3550",
   "metadata": {},
   "outputs": [],
   "source": [
    "Data = ohlc.copy()\n",
    "Data['sma20'] = Data['Close'].rolling(20).mean()\n",
    "Data['sma50'] = Data['Close'].rolling(50).mean()\n",
    "Data['sma200'] = Data['Close'].rolling(200).mean()\n",
    "Data = Data.dropna()\n",
    "Data = Data[['Close','sma20','sma50','sma200']].copy()"
   ]
  },
  {
   "cell_type": "code",
   "execution_count": null,
   "id": "a5a8c3fa",
   "metadata": {},
   "outputs": [],
   "source": [
    "#Get the data and splits in input X and output Y, by spliting in `n` past days as input X \n",
    "#and `m` coming days as Y.\n",
    "\n",
    "def processData(data, look_back, forward_days,jump=1):\n",
    "    X,Y = [],[]\n",
    "    for i in range(0,len(data) -look_back -forward_days +1, jump):\n",
    "        X.append(data[i:(i+look_back)])\n",
    "        Y.append(data[(i+look_back):(i+look_back+forward_days,0)])\n",
    "    return np.array(X),np.array(Y)\n"
   ]
  },
  {
   "cell_type": "code",
   "execution_count": null,
   "id": "21cded1f",
   "metadata": {},
   "outputs": [],
   "source": [
    "strided_dates = strided_app(data.index.values,1200,30)\n",
    "train_dates,cv_dates = strided_dates[0,:-30],strided_dates[0,-30:]\n",
    "\n"
   ]
  },
  {
   "cell_type": "code",
   "execution_count": null,
   "id": "e5a9706a",
   "metadata": {},
   "outputs": [],
   "source": [
    "data"
   ]
  },
  {
   "cell_type": "code",
   "execution_count": null,
   "id": "57fad6ef",
   "metadata": {},
   "outputs": [],
   "source": []
  }
 ],
 "metadata": {
  "kernelspec": {
   "display_name": "Python 3 (ipykernel)",
   "language": "python",
   "name": "python3"
  },
  "language_info": {
   "codemirror_mode": {
    "name": "ipython",
    "version": 3
   },
   "file_extension": ".py",
   "mimetype": "text/x-python",
   "name": "python",
   "nbconvert_exporter": "python",
   "pygments_lexer": "ipython3",
   "version": "3.10.4"
  }
 },
 "nbformat": 4,
 "nbformat_minor": 5
}
