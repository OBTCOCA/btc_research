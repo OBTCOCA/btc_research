{
 "cells": [
  {
   "cell_type": "code",
   "execution_count": 1,
   "id": "48bab214",
   "metadata": {},
   "outputs": [],
   "source": [
    "import sys\n",
    "sys.path.insert(0, '/Users/orentapiero/MyResearch') \n",
    "\n",
    "import pandas as pd\n",
    "import numpy as np\n",
    "import matplotlib.pyplot as plt\n",
    "import seaborn as sns\n",
    "\n",
    "from tqdm.notebook import tqdm \n",
    "from statsmodels.tsa.stattools import adfuller\n",
    "\n",
    "from sklearn.preprocessing import StandardScaler\n",
    "from sklearn.svm import SVR\n",
    "\n",
    "from FILTERS.utilities import strided_app\n",
    "from FILTERS.wavelet_transform import WT\n",
    "\n",
    "from joblib import Parallel, delayed\n",
    "from joblib.externals.loky import set_loky_pickler\n",
    "\n",
    "import plotly.graph_objects as go\n",
    "from plotly.subplots import make_subplots\n",
    "from plotly.offline import init_notebook_mode, iplot\n",
    "from plotly.graph_objs import *\n",
    "from statsmodels.graphics.tsaplots import plot_acf\n",
    "\n",
    "set_loky_pickler()\n",
    "\n",
    "plt.rcParams['figure.figsize'] = [10,8]\n",
    "sns.set()\n",
    "tqdm.pandas()"
   ]
  },
  {
   "cell_type": "code",
   "execution_count": 2,
   "id": "25ae22b5",
   "metadata": {},
   "outputs": [],
   "source": [
    "ETH = pd.read_csv('/Users/orentapiero/Data/binance_ETHUSDT_1m.csv') #bitmex_BTCUSD_1m\n",
    "ETH.index = pd.to_datetime(ETH['time'],unit = 's')\n",
    "del ETH['time']\n",
    "eth_ohlc = ETH.loc['2017-08-18':'2019-12-31'].copy()\n",
    "\n",
    "BTC = pd.read_csv('/Users/orentapiero/Data/binance_BTCUSDT_1m.csv') #bitmex_BTCUSD_1m\n",
    "BTC.index = pd.to_datetime(BTC['time'],unit = 's')\n",
    "del BTC['time']\n",
    "btc_ohlc = BTC.loc['2017-08-18':'2019-12-31'].copy()\n",
    "\n",
    "Open = pd.concat([btc_ohlc['open'].rename('btc'),eth_ohlc['open'].rename('eth')],axis = 1)\n",
    "High = pd.concat([btc_ohlc['high'].rename('btc'),eth_ohlc['high'].rename('eth')],axis = 1)\n",
    "Low = pd.concat([btc_ohlc['low'].rename('btc'),eth_ohlc['low'].rename('eth')],axis = 1)\n",
    "Close = pd.concat([btc_ohlc['close'].rename('btc'),eth_ohlc['close'].rename('eth')],axis = 1)\n",
    "Volume = pd.concat([btc_ohlc['volume'].rename('btc'),eth_ohlc['volume'].rename('eth')],axis = 1)\n",
    "                 "
   ]
  },
  {
   "cell_type": "code",
   "execution_count": null,
   "id": "4b70689e",
   "metadata": {},
   "outputs": [],
   "source": []
  },
  {
   "cell_type": "code",
   "execution_count": null,
   "id": "27d6753e",
   "metadata": {},
   "outputs": [],
   "source": []
  }
 ],
 "metadata": {
  "kernelspec": {
   "display_name": "Python 3.10.2 ('beryl')",
   "language": "python",
   "name": "python3102jvsc74a57bd02e11534feb5c8a4a098bdb95240abed074673ec71f2b3454e171f74514423955"
  },
  "language_info": {
   "codemirror_mode": {
    "name": "ipython",
    "version": 3
   },
   "file_extension": ".py",
   "mimetype": "text/x-python",
   "name": "python",
   "nbconvert_exporter": "python",
   "pygments_lexer": "ipython3",
   "version": "3.10.2"
  },
  "toc": {
   "base_numbering": 1,
   "nav_menu": {},
   "number_sections": true,
   "sideBar": true,
   "skip_h1_title": false,
   "title_cell": "Table of Contents",
   "title_sidebar": "Contents",
   "toc_cell": false,
   "toc_position": {},
   "toc_section_display": true,
   "toc_window_display": false
  }
 },
 "nbformat": 4,
 "nbformat_minor": 5
}
